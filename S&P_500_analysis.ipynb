{
 "cells": [
  {
   "cell_type": "markdown",
   "id": "1967e723-50eb-4b6c-a0dd-575a4aad71d2",
   "metadata": {},
   "source": [
    "## Web scraping to fetch the S&P 500 Capitl data"
   ]
  },
  {
   "cell_type": "code",
   "execution_count": 5,
   "id": "3b08669d-1d9a-4d64-8dc4-3b5046cf86df",
   "metadata": {},
   "outputs": [
    {
     "name": "stdout",
     "output_type": "stream",
     "text": [
      "Successfully fetched the data!\n",
      "<!doctype html>\n",
      "<html lang=\"en\">\n",
      "<head>\n",
      "<meta charset=\"utf-8\">\n",
      "<meta name=\"viewport\" content=\"width=\n"
     ]
    }
   ],
   "source": [
    "import requests\n",
    "import pandas as pd\n",
    "import matplotlib.pyplot as plt\n",
    "\n",
    "# Step 1: Fetching the data from Slickcharts\n",
    "url = \"https://www.slickcharts.com/sp500\"  # URL of the data source\n",
    "\n",
    "# Mimic a browser request by setting the User-Agent\n",
    "headers = {\n",
    "    \"User-Agent\": (\n",
    "        \"Mozilla/5.0 (Windows NT 10.0; Win64; x64) AppleWebKit/537.36 (KHTML, like Gecko) Chrome/117.0.5938.62 Safari/537.36\"\n",
    "    )\n",
    "}\n",
    "\n",
    "# Make the request with headers\n",
    "response = requests.get(url, headers=headers, verify=False)\n",
    "\n",
    "# Suppress warnings from unverified HTTPS requests\n",
    "import urllib3\n",
    "urllib3.disable_warnings(urllib3.exceptions.InsecureRequestWarning)\n",
    "\n",
    "if response.status_code == 200:\n",
    "    print(\"Successfully fetched the data!\")\n",
    "    print(response.text[:100])  # Print the first 500 characters of the response\n",
    "else:\n",
    "    print(f\"Failed to fetch the data. Status code: {response.status_code}\")\n",
    "    response.raise_for_status()\n",
    "\n"
   ]
  },
  {
   "cell_type": "markdown",
   "id": "48ac931c-fd60-456e-902c-12a2c1dd2240",
   "metadata": {},
   "source": [
    "## Parsing the data to extract the table "
   ]
  },
  {
   "cell_type": "code",
   "execution_count": 6,
   "id": "91be374c-f200-49b8-9d86-737ae9202089",
   "metadata": {},
   "outputs": [
    {
     "name": "stdout",
     "output_type": "stream",
     "text": [
      "   #                       Company Symbol Weight   Price   Chg     % Chg\n",
      "0  1                    Apple Inc.   AAPL  7.63%  258.75  0.55   (0.21%)\n",
      "1  2                   Nvidia Corp   NVDA  6.73%  140.24  0.02   (0.02%)\n",
      "2  3                Microsoft Corp   MSFT  6.39%  439.14 -0.19  (-0.04%)\n",
      "3  4                Amazon.com Inc   AMZN  4.19%  227.90 -1.15  (-0.50%)\n",
      "4  5  Meta Platforms, Inc. Class A   META  2.59%  603.15 -4.60  (-0.76%)\n"
     ]
    },
    {
     "name": "stderr",
     "output_type": "stream",
     "text": [
      "C:\\Users\\yegan\\AppData\\Local\\Temp\\ipykernel_47268\\3173867680.py:3: FutureWarning: Passing literal html to 'read_html' is deprecated and will be removed in a future version. To read from a literal string, wrap it in a 'StringIO' object.\n",
      "  tables = pd.read_html(response.text)\n"
     ]
    }
   ],
   "source": [
    "# Step 2: Parsing the data\n",
    "# We use pandas to parse HTML tables on the website\n",
    "tables = pd.read_html(response.text)\n",
    "sp500_table = tables[0]  # The first table on the page contains the S&P 500 data\n",
    "\n",
    "# Display the first few rows of the table to understand its structure\n",
    "print(sp500_table.head())\n",
    "\n"
   ]
  },
  {
   "cell_type": "markdown",
   "id": "d3c62c37-652e-452d-8d70-ecd5a45d519c",
   "metadata": {},
   "source": [
    "## Reconfiguring the data in the table for analysis"
   ]
  },
  {
   "cell_type": "code",
   "execution_count": 8,
   "id": "6455e1c7-5e2a-4ada-8234-61a16acb5736",
   "metadata": {},
   "outputs": [
    {
     "name": "stdout",
     "output_type": "stream",
     "text": [
      "   #                       Company Symbol  Weight   Price   Chg     % Chg\n",
      "0  1                    Apple Inc.   AAPL    7.63  258.75  0.55   (0.21%)\n",
      "1  2                   Nvidia Corp   NVDA    6.73  140.24  0.02   (0.02%)\n",
      "2  3                Microsoft Corp   MSFT    6.39  439.14 -0.19  (-0.04%)\n",
      "3  4                Amazon.com Inc   AMZN    4.19  227.90 -1.15  (-0.50%)\n",
      "4  5  Meta Platforms, Inc. Class A   META    2.59  603.15 -4.60  (-0.76%)\n"
     ]
    },
    {
     "name": "stderr",
     "output_type": "stream",
     "text": [
      "<>:6: SyntaxWarning: invalid escape sequence '\\%'\n",
      "<>:6: SyntaxWarning: invalid escape sequence '\\%'\n",
      "C:\\Users\\yegan\\AppData\\Local\\Temp\\ipykernel_47268\\376511100.py:6: SyntaxWarning: invalid escape sequence '\\%'\n",
      "  .replace(\"[\\%,]\", \"\", regex=True)  # Remove $ and commas\n"
     ]
    }
   ],
   "source": [
    "# Step 3: Extracting relevant columns\n",
    "# The columns we need are 'Company', 'Symbol', and 'Weight' (the market cap)\n",
    "market_cap_column = \"Weight\"  \n",
    "sp500_table[market_cap_column] = (\n",
    "    sp500_table[market_cap_column]\n",
    "    .replace(\"[\\%,]\", \"\", regex=True)  # Remove $ and commas\n",
    "    .astype(float)\n",
    ")\n",
    "# Step 4: Sorting by Weight\n",
    "sp500_table = sp500_table.sort_values(by=market_cap_column, ascending=False)\n",
    "print(sp500_table.head())\n"
   ]
  },
  {
   "cell_type": "markdown",
   "id": "6d87d14a-3849-4fb4-81e6-27f5356c0d0d",
   "metadata": {},
   "source": [
    "## Calculating cumulative percentages"
   ]
  },
  {
   "cell_type": "code",
   "execution_count": 13,
   "id": "eb8b1516-49b6-4cbe-8533-1e96c7f7484a",
   "metadata": {},
   "outputs": [],
   "source": [
    "# Step 5: Calculating cumulative percentages\n",
    "sp500_table[\"Cumulative Weight\"] = sp500_table[market_cap_column].cumsum()\n",
    "total_market_cap = sp500_table[market_cap_column].sum()\n",
    "sp500_table[\"Cumulative %\"] = (\n",
    "    sp500_table[\"Cumulative Weight\"] / total_market_cap * 100\n",
    ")\n",
    "\n",
    "# Step 6: Preparing data for plotting\n",
    "sp500_table[\"Company Rank\"] = range(1, len(sp500_table) + 1)\n"
   ]
  },
  {
   "cell_type": "markdown",
   "id": "27731957-de95-4294-8f34-59766f9a06ac",
   "metadata": {},
   "source": [
    "## Plotting the accumulated histogram"
   ]
  },
  {
   "cell_type": "code",
   "execution_count": 19,
   "id": "3e8d9a7f-a22f-49c0-a318-716f8140fbd1",
   "metadata": {},
   "outputs": [
    {
     "data": {
      "image/png": "[encoded data removed]",
      "text/plain": [
       "<Figure size 800x400 with 1 Axes>"
      ]
     },
     "metadata": {},
     "output_type": "display_data"
    }
   ],
   "source": [
    "# Step 7: Plotting the accumulated histogram\n",
    "plt.figure(figsize=(8, 4))\n",
    "plt.plot(\n",
    "    sp500_table[\"Company Rank\"],\n",
    "    sp500_table[\"Cumulative %\"],\n",
    "    marker=\"o\",\n",
    "    linestyle=\"\",\n",
    "    label=\"Cumulative Weight\",\n",
    ")\n",
    "\n",
    "# Step 8: Adding labels and title\n",
    "plt.title(\"Accumulated Capitalization of S&P 500 Companies\", fontsize=14)\n",
    "plt.xlabel(\"Company Rank \", fontsize=12)\n",
    "plt.ylabel(\"Cumulative Weight (%)\", fontsize=12)\n",
    "plt.grid(True)\n",
    "plt.legend()\n",
    "plt.show()\n",
    "\n"
   ]
  },
  {
   "cell_type": "code",
   "execution_count": null,
   "id": "b0b0b399-dc23-476b-ba73-b49994de7da7",
   "metadata": {},
   "outputs": [],
   "source": []
  }
 ],
 "metadata": {
  "kernelspec": {
   "display_name": "Python 3 (ipykernel)",
   "language": "python",
   "name": "python3"
  },
  "language_info": {
   "codemirror_mode": {
    "name": "ipython",
    "version": 3
   },
   "file_extension": ".py",
   "mimetype": "text/x-python",
   "name": "python",
   "nbconvert_exporter": "python",
   "pygments_lexer": "ipython3",
   "version": "3.12.3"
  }
 },
 "nbformat": 4,
 "nbformat_minor": 5
}
